{
 "cells": [
  {
   "cell_type": "markdown",
   "metadata": {},
   "source": [
    "### Ejercicio 13: Cultura.\n",
    "Una persona tiene un libro de cada uno de los autores siguientes: Mario Vargas Llosa, Alberto Ruy Sánchez   Gabriel García Márquez, Günther Grass, Patrick Süskind, Heinrich Böll, Arturo Pérez-Reverte y Camilo José Cela. Como aún no los ha leído, quiere ponerlos en una repisa cerca de su cama. De acuerdo con esto, determina:\n",
    "\n",
    "a) ¿De cuántas formas puede acomodar los libros sobre la repisa?        \n",
    "b) ¿De cuántas maneras puede ordenarlos si quiere que los libros de autores latinoamericanos\n",
    "estén juntos?       \n",
    "c) ¿De cuántas formas puede acomodarlos, si los autores latinoamericanos deben estar juntos,\n",
    "así como los autores alemanes y los españoles también?      \n",
    "d) Determina las probabilidades correspondientes a los incisos (b) y (c).       "
   ]
  },
  {
   "cell_type": "code",
   "execution_count": 3,
   "metadata": {},
   "outputs": [
    {
     "name": "stdout",
     "output_type": "stream",
     "text": [
      "a) 40320\n",
      "b) 4320\n",
      "c) 432\n",
      "d) La Probabilidad de b es: 0.10714285714285714\n",
      "d) La Probabilidad de c es: 0.010714285714285714\n",
      "\n"
     ]
    }
   ],
   "source": [
    "import math as m\n",
    "\n",
    "def calcular_cultura():\n",
    "    # Calculando los valores directamente\n",
    "    total_libros = 8\n",
    "    formas_total = m.factorial(total_libros)\n",
    "    formas_b = m.factorial(6) * m.factorial(3)\n",
    "    formas_c = m.factorial(3) * (m.factorial(2) * m.factorial(3) * m.factorial(3))\n",
    "\n",
    "    # Calculando las probabilidades\n",
    "    probabilidad_b = formas_b / formas_total\n",
    "    probabilidad_c = formas_c / formas_total\n",
    "\n",
    "    # Devolviendo los resultados como una cadena formateada\n",
    "    resultados = f\"a) {formas_total}\\n\" \\\n",
    "                 f\"b) {formas_b}\\n\" \\\n",
    "                 f\"c) {formas_c}\\n\" \\\n",
    "                 f\"d) La Probabilidad de b es: {probabilidad_b}\\n\" \\\n",
    "                 f\"d) La Probabilidad de c es: {probabilidad_c}\\n\"\n",
    "    \n",
    "    return resultados\n",
    "\n",
    "# Llamamos a la función y mostramos los resultados\n",
    "resultados = calcular_cultura()\n",
    "print(resultados)\n"
   ]
  },
  {
   "cell_type": "markdown",
   "metadata": {},
   "source": [
    "- ----- -\n"
   ]
  }
 ],
 "metadata": {
  "kernelspec": {
   "display_name": "Python 3",
   "language": "python",
   "name": "python3"
  },
  "language_info": {
   "codemirror_mode": {
    "name": "ipython",
    "version": 3
   },
   "file_extension": ".py",
   "mimetype": "text/x-python",
   "name": "python",
   "nbconvert_exporter": "python",
   "pygments_lexer": "ipython3",
   "version": "3.12.4"
  }
 },
 "nbformat": 4,
 "nbformat_minor": 2
}
