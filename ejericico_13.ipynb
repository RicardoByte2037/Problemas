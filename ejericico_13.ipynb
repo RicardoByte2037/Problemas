{
 "cells": [
  {
   "cell_type": "markdown",
   "metadata": {},
   "source": [
    "# Ejercicio 13: Cultura.\n",
    "Una persona tiene un libro de cada uno de los autores siguientes: Mario Vargas Llosa, Alberto Ruy Sánchez, Gabriel García Márquez, Günther Grass, Patrick Süskind, Heinrich Böll, Arturo Pérez-Reverte y Camilo José Cela. Como aún no los ha leído, quiere ponerlos en una repisa cerca de su cama. De acuerdo con esto, determina los siguientes puntos:\n",
    "       \n",
    "- A) ¿De cuántas formas puede acomodar los libros sobre la repisa?\n",
    "- B) ¿De cuántas maneras puede ordenarlos si quiere que los libros de autores latinoamericanos estén juntos?\n",
    "- C) ¿De cuántas formas puede acomodarlos, si los autores latinoamericanos deben estar juntos, así como los autores alemanes y los españoles también?\n",
    "- D) Determina las probabilidades correspondientes a los incisos (b) y (c).\n"
   ]
  },
  {
   "cell_type": "markdown",
   "metadata": {},
   "source": [
    "----"
   ]
  },
  {
   "cell_type": "markdown",
   "metadata": {},
   "source": [
    "Este ejercicio nos presenta un escenario de combinatoria y probabilidad. **La combinatoria** se encarga de estudiar el número de formas en que se pueden elegir o disponer elementos de un conjunto. En este caso, queremos saber cuántas formas hay de ordenar los libros en la repisa de acuerdo a diferentes restricciones. Por otro lado, la **probabilidad** nos permite calcular la posibilidad de que ocurra un evento específico. En este caso, queremos calcular la probabilidad de que los libros de autores latinoamericanos, alemanes y españoles se encuentren juntos."
   ]
  },
  {
   "cell_type": "code",
   "execution_count": 97,
   "metadata": {},
   "outputs": [
    {
     "name": "stdout",
     "output_type": "stream",
     "text": [
      "A) Número de formas en las que puedes acomodar los libros sobre la repisa: 40320\n",
      "B) Maneras en las que puedes ordenar los libros si se quiere que libros de autores latinoamericanos estén juntos: 4320\n",
      "C) Formar en las que puedas acomodarlos si los autores latinos están juntos, así como los alemanes y los españoles: 432\n",
      "D) Probabilidades de incisos B y C: \n",
      "Probabilidad correspondiente al inciso B: 0.10714285714285714\n",
      "Probabilidad correspondiente al inciso C: 0.010714285714285714\n"
     ]
    }
   ],
   "source": [
    "# Importación de la biblioteca math como 'm'\n",
    "import math as m\n",
    "\n",
    "# Función para los cálculos\n",
    "def calcular_cultura():\n",
    "    # Calcular valores (inciso A, B, C) \n",
    "    # Número total de libros\n",
    "    total_libros = 8\n",
    "    \n",
    "    # Calcular el número total de formas de arreglar los libros (Inciso A)\n",
    "    # Utilizando la función factorial de la biblioteca math\n",
    "    formas_total = m.factorial(total_libros)\n",
    "    \n",
    "    # Calcular el número de formas de arreglar los libros con autores latinoamericanos juntos (Inciso B)\n",
    "    # Hay 3 autores latinoamericanos y 5 autores no latinoamericanos\n",
    "    # Calcular el número de formas de arreglar los 5 autores no latinoamericanos y los 3 autores latinoamericanos\n",
    "    formas_b = m.factorial(6) * m.factorial(3)\n",
    "    \n",
    "    # Calcular el número de formas de arreglar los libros con autores latinoamericanos, alemanes y españoles juntos (Inciso C)\n",
    "    # Hay 3 autores latinoamericanos, 2 autores alemanes y 3 autores españoles\n",
    "    # Calcular el número de formas de arreglar cada grupo de autores y multiplicarlos entre sí\n",
    "    formas_c = m.factorial(3) * (m.factorial(2) * m.factorial(3) * m.factorial(3))\n",
    "    \n",
    "    # Calcular las probabilidades (Inciso D)\n",
    "    # Probabilidad de arreglar los libros con autores latinoamericanos juntos\n",
    "    probabilidad_b = formas_b / formas_total\n",
    "    \n",
    "    # Probabilidad de arreglar los libros con autores latinoamericanos, alemanes y españoles juntos\n",
    "    probabilidad_c = formas_c / formas_total\n",
    "    \n",
    "    # Devolver los valores calculados\n",
    "    return formas_total, formas_b, formas_c, probabilidad_b, probabilidad_c\n",
    "\n",
    "# Variables de guardado\n",
    "a, b, c, d1, d2 = calcular_cultura()\n",
    "\n",
    "# Imprimir resultados\n",
    "print(\"A) Número de formas en las que puedes acomodar los libros sobre la repisa:\", a)\n",
    "print(\"B) Maneras en las que puedes ordenar los libros si se quiere que libros de autores latinoamericanos estén juntos:\", b)\n",
    "print(\"C) Formar en las que puedas acomodarlos si los autores latinos están juntos, así como los alemanes y los españoles:\", c)\n",
    "print(\"D) Probabilidades de incisos B y C: \") \n",
    "print(\"Probabilidad correspondiente al inciso B:\", d1)\n",
    "print(\"Probabilidad correspondiente al inciso C:\", d2)\n"
   ]
  },
  {
   "cell_type": "markdown",
   "metadata": {},
   "source": [
    "- ----- -\n"
   ]
  },
  {
   "cell_type": "markdown",
   "metadata": {},
   "source": [
    "### A) ¿De cuántas formas puede acomodar los libros sobre la repisa? "
   ]
  },
  {
   "cell_type": "markdown",
   "metadata": {},
   "source": [
    "Para resolver este inciso, podemos utilizar el concepto de **permutación simple**. La permutación simple se refiere al número de formas en que se pueden ordenar un conjunto de elementos **sin importar la repetición**. En este caso, tenemos 8 libros diferentes, por lo que el número total de arreglos posibles se calcula utilizando la fórmula de permutación simple.\n",
    "$$\n",
    "Formas \\ totales = n!\n",
    "$$\n",
    "Donde '**n**' es el número total de elementos (en este caso, 8 libros) y '**!**' representa el factorial de n.\n",
    "$$\n",
    "Formas \\ totales = 8! = 40,320\n",
    "$$"
   ]
  },
  {
   "cell_type": "code",
   "execution_count": 102,
   "metadata": {},
   "outputs": [
    {
     "name": "stdout",
     "output_type": "stream",
     "text": [
      "Número de formas en las que puedes acomodar los libros sobre la repisa: 40320\n"
     ]
    }
   ],
   "source": [
    "print(\"Número de formas en las que puedes acomodar los libros sobre la repisa:\", a)"
   ]
  },
  {
   "cell_type": "markdown",
   "metadata": {},
   "source": [
    "- ----- -\n"
   ]
  },
  {
   "cell_type": "markdown",
   "metadata": {},
   "source": [
    "#### B) ¿De cuántas maneras puede ordenarlos si quiere que los libros de autores latinoamericanos estén juntos?     \n",
    "   "
   ]
  },
  {
   "cell_type": "markdown",
   "metadata": {},
   "source": [
    "En este caso, queremos considerar una restricción: los 3 libros de autores latinoamericanos (correspondientes a los autores Mario Vargas Llosa, Alberto Ruy Sánchez y Gabriel García Márquez) deben estar juntos. Para ello, podemos dividir el problema en dos pasos:\n",
    "\n",
    "Agrupar los libros latinoamericanos: Imaginemos que los 3 libros latinoamericanos se convierten en un solo \"**bloque**\". De esta manera, tenemos 6 elementos para ordenar: el bloque de libros latinoamericanos y los 3 libros restantes.\n",
    "\n",
    "Ordenar los bloques y libros restantes: El número de formas de ordenar estos 6 elementos es simplemente una permutación simple de 6 elementos:\n",
    "$$\n",
    "Bloques \\ y \\ libros \\ restantes : 6! = 720\n",
    "$$\n",
    "Sin embargo, debemos considerar que dentro del bloque de libros latinoamericanos, los 3 libros se pueden ordenar de diferentes maneras. El número de formas de ordenar estos 3 libros es también una permutación simple:\n",
    "$$\n",
    "Formas \\ dentro \\ del \\ bloque : 3! = 6\n",
    "$$\n",
    "Ahora, el número total de formas de ordenar los libros con los autores latinoamericanos juntos se obtiene multiplicando las formas de ordenar el bloque y los libros restantes por las formas de ordenar dentro del bloque:\n",
    "\n",
    "Formas con autores latinoamericanos juntos:     \n",
    "$$\n",
    " Bloques \\ y \\ libros \\ restantes * Formas \\ dentro \\ del \\ bloque: 720 * 6 = 4320\n",
    "$$"
   ]
  },
  {
   "cell_type": "code",
   "execution_count": 103,
   "metadata": {},
   "outputs": [
    {
     "name": "stdout",
     "output_type": "stream",
     "text": [
      "Maneras en las que puedes ordenar los libros si se quiere que libros de autores latinoamericanos estén juntos: 4320\n"
     ]
    }
   ],
   "source": [
    "print(\"Maneras en las que puedes ordenar los libros si se quiere que libros de autores latinoamericanos estén juntos:\", b)"
   ]
  },
  {
   "cell_type": "markdown",
   "metadata": {},
   "source": [
    "- ----- -\n"
   ]
  },
  {
   "cell_type": "markdown",
   "metadata": {},
   "source": [
    "#### C) ¿De cuántas formas puede acomodarlos, si los autores latinoamericanos deben estar juntos, así como los autores alemanes y los españoles también?      \n",
    "  "
   ]
  },
  {
   "cell_type": "markdown",
   "metadata": {},
   "source": [
    "En este caso, tenemos tres restricciones:\n",
    "\n",
    "1. Los 3 libros latinoamericanos deben estar juntos (Mario Vargas Llosa, Alberto Ruy Sánchez y Gabriel García Márquez).\n",
    "2. Los 3 libros alemanes deben estar juntos (Günther Grass, Heinrich Böll y Patrick Süskind).\n",
    "3. Los 2 libros españoles deben estar juntos (Arturo Pérez Reverte y Camilo José Cela).\n",
    "     \n",
    "Para resolver este problema, podemos seguir una estrategia similar al inciso B, pero agrupando los libros por nacionalidad.\n",
    "\n",
    "Agrupar los libros por nacionalidad: Se forman 3 bloques: bloque de autores latinoamericanos, bloque de autores alemanes y bloque de autores españoles.\n",
    "\n",
    "Ordenar los bloques: El número de formas de ordenar estos 3 bloques es una permutación simple de 3 elementos:\n",
    "$$\n",
    "Formas \\ de \\ bloques : 3! = 6\n",
    "$$\n",
    "Ordenar dentro de cada bloque: Se calcula el número de formas de ordenar los libros dentro de cada bloque utilizando la permutación simple:\n",
    "\n",
    "- Formas dentro del bloque latinoamericano: $$3! = 6$$        \n",
    "- Formas dentro del bloque alemán: $$3! = 6$$     \n",
    "- Formas dentro del bloque español: $$2! = 2$$        \n",
    "- Multiplicar las formas: El número total de formas de ordenar los libros con las restricciones dadas se obtiene multiplicando las formas de ordenar los bloques por las formas de ordenar dentro de cada bloque:\n",
    "\n",
    "Formas con restricciones:\n",
    "$$\n",
    "Formas \\ de \\ bloques * Formas \\ bloque \\ latinoamericano * Formas \\ bloque \\ alemán * Formas \\ bloque \\ español : 6 * 6 * 6 * 2 = 432\n",
    "$$"
   ]
  },
  {
   "cell_type": "code",
   "execution_count": 104,
   "metadata": {},
   "outputs": [
    {
     "name": "stdout",
     "output_type": "stream",
     "text": [
      "Formar en las que puedas acomodarlos si los autores latinos están juntos, así como los alemanes y los españoles: 432\n"
     ]
    }
   ],
   "source": [
    "print(\"Formar en las que puedas acomodarlos si los autores latinos están juntos, así como los alemanes y los españoles:\", c)"
   ]
  },
  {
   "cell_type": "markdown",
   "metadata": {},
   "source": [
    "- ----- -\n"
   ]
  },
  {
   "cell_type": "markdown",
   "metadata": {},
   "source": [
    "#### D) Determina las probabilidades correspondientes a los incisos (b) y (c).  "
   ]
  },
  {
   "cell_type": "markdown",
   "metadata": {},
   "source": [
    "En este inciso, queremos calcular la probabilidad de que se cumplan las restricciones de agrupación de libros especificadas en los incisos B y C. Para ello, utilizaremos el concepto de **probabilidad**, que se define como la proporción de eventos favorables con respecto al espacio muestral total.\n",
    "\n",
    "- Espacio muestral:\n",
    "\n",
    "El espacio muestral, en este caso, es el conjunto de todas las formas posibles de ordenar los 8 libros sin ninguna restricción. Ya hemos calculado en el inciso A que el número total de formas posibles es de 40.320, utilizando la fórmula de permutación simple:\n",
    "$$\n",
    "Formas \\ totales : 8! = 40320\n",
    "$$\n",
    "- Eventos favorables:\n",
    "\n",
    "    - **Inciso B:** El evento favorable es que los 4 libros de autores latinoamericanos se encuentren juntos. Ya hemos calculado en el inciso B que el número de formas de ordenar los libros con esta restricción es de 4320.\n",
    "    $$\n",
    "    Bloques \\ y \\ libros \\ restantes : 6! = 720\n",
    "    $$\n",
    "    $$\n",
    "    Formas \\ dentro \\ del \\ bloque : 3! = 6\n",
    "    $$\n",
    "    $$\n",
    "    Bloques \\ y \\ libros \\ restantes * Formas \\ dentro \\ del \\ bloque: 720 * 6 = 4320\n",
    "    $$\n",
    "\n",
    "    - **Inciso C:** El evento favorable es que los grupos de autores latinoamericanos, alemanes y españoles se encuentren juntos. Ya hemos calculado en el inciso C que el número de formas de ordenar los libros con esta restricción es de 432.\n",
    "\n",
    "        - Formas dentro del bloque latinoamericano: $$3! = 6$$        \n",
    "        - Formas dentro del bloque alemán: $$3! = 6$$     \n",
    "        - Formas dentro del bloque español: $$2! = 2$$        \n",
    "        - Formas con restricciones:\n",
    "        $$\n",
    "        Formas \\ de \\ bloques * Formas \\ bloque \\ latinoamericano * Formas \\ bloque \\ alemán * Formas \\ bloque \\ español : 6 * 6 * 6 * 2 = 432\n",
    "        $$\n",
    "\n",
    "- Cálculo de probabilidades:\n",
    "\n",
    "    - **Inciso B:**  \n",
    "        $$\n",
    "        P(\\text{Autores Latinoamericanos juntos}) = \\frac{\\text{Formas con autores latinoamericanos juntos}}{\\text{Formas totales}} = \\frac{4320}{40320} = \\frac{1}{9} \\approx 0.10714285714285714\n",
    "        $$\n",
    "    - **Inciso C:**\n",
    "        $$\n",
    "        P(\\text{Grupos Juntos}) = \\frac{\\text{Número de maneras con latinoamericanos, alemanes y españoles juntos}}{\\text{{Formas totales}}} = \\frac{432}{40320} = \\frac{1}{93.333} \\approx 0.010714285714285714\n",
    "        $$\n",
    "\n",
    "        \n",
    "B) Existe una probabilidad del 0.10714285714285714 % de que los libros de autores latinoamericanos se encuentren juntos en la repisa si el lector no impone ninguna otra restricción sobre el orden de los libros.\n",
    "\n",
    "C) Existe una probabilidad del 0.010714285714285714 % de que los grupos de autores latinoamericanos, alemanes y españoles se encuentren juntos en la repisa si el lector impone la restricción de que los grupos de autores deben estar juntos, pero no la restricción de que los autores dentro de cada grupo deban estar juntos.\n"
   ]
  },
  {
   "cell_type": "code",
   "execution_count": 105,
   "metadata": {},
   "outputs": [
    {
     "name": "stdout",
     "output_type": "stream",
     "text": [
      "Probabilidad correspondiente al inciso B: 0.10714285714285714\n",
      "Probabilidad correspondiente al inciso C: 0.010714285714285714\n"
     ]
    }
   ],
   "source": [
    "print(\"Probabilidad correspondiente al inciso B:\", d1)\n",
    "print(\"Probabilidad correspondiente al inciso C:\", d2)"
   ]
  }
 ],
 "metadata": {
  "kernelspec": {
   "display_name": "Python 3",
   "language": "python",
   "name": "python3"
  },
  "language_info": {
   "codemirror_mode": {
    "name": "ipython",
    "version": 3
   },
   "file_extension": ".py",
   "mimetype": "text/x-python",
   "name": "python",
   "nbconvert_exporter": "python",
   "pygments_lexer": "ipython3",
   "version": "3.12.4"
  }
 },
 "nbformat": 4,
 "nbformat_minor": 2
}
