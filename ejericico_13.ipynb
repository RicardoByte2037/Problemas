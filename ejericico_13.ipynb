{
 "cells": [
  {
   "cell_type": "markdown",
   "metadata": {},
   "source": [
    "# Ejercicio 13: Cultura.\n",
    "Una persona tiene un libro de cada uno de los autores siguientes: Mario Vargas Llosa, Alberto Ruy Sánchez, Gabriel García Márquez, Günther Grass, Patrick Süskind, Heinrich Böll, Arturo Pérez-Reverte y Camilo José Cela. Como aún no los ha leído, quiere ponerlos en una repisa cerca de su cama. De acuerdo con esto, determina los siguientes puntos:\n",
    "       \n",
    "- A) ¿De cuántas formas puede acomodar los libros sobre la repisa?\n",
    "- B) ¿De cuántas maneras puede ordenarlos si quiere que los libros de autores latinoamericanos estén juntos?\n",
    "- C) ¿De cuántas formas puede acomodarlos, si los autores latinoamericanos deben estar juntos, así como los autores alemanes y los españoles también?\n",
    "- D) Determina las probabilidades correspondientes a los incisos (b) y (c).\n"
   ]
  },
  {
   "cell_type": "markdown",
   "metadata": {},
   "source": [
    "----"
   ]
  },
  {
   "cell_type": "markdown",
   "metadata": {},
   "source": [
    "Este ejercicio nos plantea la tarea de ordenar los libros en la repisa, lo que implica que la posición relativa de cada libro en la repisa tiene un significado presentando así un escenario de permutación y probabilidad. Para resolverlo, aplicamos el principio de conteo de **permutación simple**:\n",
    "$$\n",
    "Formas \\ totales = n!\n",
    "$$"
   ]
  },
  {
   "cell_type": "markdown",
   "metadata": {},
   "source": [
    "### A) ¿De cuántas formas puede acomodar los libros sobre la repisa? "
   ]
  },
  {
   "cell_type": "markdown",
   "metadata": {},
   "source": [
    "En este caso, no se aplica la permutación con repetición, ya que no tenemos libros repetidos en el conjunto. Como dato de entrada, tenemos **8 libros diferentes**, por lo que aplicamos la fórmula de permutación simple:\n",
    "\n",
    "$$\n",
    "Formas \\ totales = 8! = 40,320\n",
    "$$\n",
    "\n",
    "#### Al calcular la permutación con nuestro dato de entrada, se puede concluir que hay **40,320** formas de acomodar los libros sobre la repisa."
   ]
  },
  {
   "cell_type": "markdown",
   "metadata": {},
   "source": [
    "- ----- -\n"
   ]
  },
  {
   "cell_type": "markdown",
   "metadata": {},
   "source": [
    "### B) ¿De cuántas maneras puede ordenarlos si quiere que los libros de autores latinoamericanos estén juntos?     \n",
    "   "
   ]
  },
  {
   "cell_type": "markdown",
   "metadata": {},
   "source": [
    "Consideramos como restricción que los 3 libros de autores latinoamericanos (Mario Vargas Llosa, Alberto Ruy Sánchez y Gabriel García Márquez) deben estar juntos. Para ello:\n",
    "\n",
    "Agrupamos los libros latinoamericanos: Imaginemos que los 3 libros latinoamericanos se convierten en un solo \"**bloque**\". De esta manera, tenemos 6 elementos para ordenar: el bloque de libros latinoamericanos y los 3 libros restantes.\n",
    "\n",
    "Ordenar los bloques y libros restantes: El número de formas de ordenar estos 6 elementos es una permutación simple de 6 elementos:\n",
    "$$\n",
    "Bloque \\ y \\ libros \\ restantes : 6! = 720\n",
    "$$\n",
    "Debemos considerar que dentro del bloque de libros latinoamericanos, **los 3 libros se pueden ordenar de diferentes maneras** : \n",
    "$$\n",
    "Formas \\ dentro \\ del \\ bloque : 3! = 6\n",
    "$$\n",
    "Ahora, el número total de formas de ordenar los libros con los autores latinoamericanos juntos se obtiene multiplicando las formas de ordenar el bloque y los libros restantes por las formas de ordenar dentro del bloque:\n",
    "\n",
    "Formas con autores latinoamericanos juntos:     \n",
    "$$\n",
    " Bloques \\ y \\ libros \\ restantes * Formas \\ dentro \\ del \\ bloque: 720 * 6 = 4,320\n",
    "$$\n",
    "#### De esto, podemos concluir que existen **4,320** maneras de ordenar los libros con la restricción de mantener los libros de autores latinoamericanos juntos.\n"
   ]
  },
  {
   "cell_type": "markdown",
   "metadata": {},
   "source": [
    "- ----- -\n"
   ]
  },
  {
   "cell_type": "markdown",
   "metadata": {},
   "source": [
    "#### C) ¿De cuántas formas puede acomodarlos, si los autores latinoamericanos deben estar juntos, así como los autores alemanes y los españoles también?      \n",
    "  "
   ]
  },
  {
   "cell_type": "markdown",
   "metadata": {},
   "source": [
    "En este caso, tenemos tres restricciones:\n",
    "\n",
    "1. Los 3 libros latinoamericanos deben estar juntos (Mario Vargas Llosa, Alberto Ruy Sánchez y Gabriel García Márquez).\n",
    "2. Los 3 libros alemanes deben estar juntos (Günther Grass, Heinrich Böll y Patrick Süskind).\n",
    "3. Los 2 libros españoles deben estar juntos (Arturo Pérez Reverte y Camilo José Cela).\n",
    "     \n",
    "Para este caso, podemos seguir una estrategia similar al inciso B.\n",
    "\n",
    "Agrupamos los libros por nacionalidad para formar 3 bloques: bloque de autores latinoamericanos, bloque de autores alemanes y bloque de autores españoles.\n",
    "\n",
    "El número de formas de ordenar estos 3 bloques es una permutación simple de 3 elementos:\n",
    "$$\n",
    "Formas \\ de \\ bloques : 3! = 6\n",
    "$$\n",
    "Se calcula el número de formas de ordenar los libros dentro de cada bloque utilizando la permutación simple:\n",
    "\n",
    "- Formas dentro del bloque latinoamericano: $3! = 6$     \n",
    "- Formas dentro del bloque alemán: $3! = 6$    \n",
    "- Formas dentro del bloque español: $2! = 2$        \n",
    "\n",
    "Obtenemos el número total de formas de ordenar los libros con las restricciones dadas multiplicando las formas de ordenar los bloques por las formas de ordenar dentro de cada bloque.\n",
    "$$\n",
    "Formas \\ de \\ bloques * Formas \\ bloque \\ latinoamericano * Formas \\ bloque \\ alemán * Formas \\ bloque \\ español : 6 * 6 * 6 * 2 = 432\n",
    "$$\n",
    "#### Por lo tanto, hay **432** formas de acomodar los libros con la restricción de mantener a los autores latinoamericanos juntos, así como los autores alemanes y españoles."
   ]
  },
  {
   "cell_type": "markdown",
   "metadata": {},
   "source": [
    "- ----- -\n"
   ]
  },
  {
   "cell_type": "markdown",
   "metadata": {},
   "source": [
    "#### D) Determina las probabilidades correspondientes a los incisos (b) y (c).  "
   ]
  },
  {
   "cell_type": "markdown",
   "metadata": {},
   "source": [
    "Para calcular la probabilidad de que se cumplan los incisos B y C aplicamos la fórmula del concepto de **probabilidad**:\n",
    "\n",
    "$$\n",
    "P(\\text{A}) = \\frac{\\text{Casos favorables de A}}{\\text{Total casos posibles}}\n",
    "$$\n",
    "\n",
    "Para el total de casos posibles, ya lo hemos calculado en el inciso A que el número total de formas posibles es de 40,320.\n",
    "$$\n",
    "Formas \\ totales : 8! = 40320\n",
    "$$\n",
    "Obteniendo así que el número total de **casos posibles** son **40320**.\n",
    "\n",
    "- Casos favorables de A:\n",
    "\n",
    "    - **Inciso B:** Usando el mismo procedimiento y resultado del inciso '**A**', donde obtenemos el número de formas de ordenar los libros con la restricción de los autores latinos.\n",
    "    $$\n",
    "    Bloques \\ y \\ libros \\ restantes : 6! = 720\n",
    "    $$\n",
    "    $$\n",
    "    Formas \\ dentro \\ del \\ bloque : 3! = 6\n",
    "    $$\n",
    "    $$\n",
    "    Bloques \\ y \\ libros \\ restantes * Formas \\ dentro \\ del \\ bloque: 720 * 6 = 4320.\n",
    "    $$\n",
    "    Obteniendo así que el número de **casos favorables** para B son **4320**.\n",
    "    - Probabilidad:\n",
    "        $$\n",
    "        P(\\text{Autores Latinoamericanos juntos}) = \\frac{\\text{Casos con autores latinoamericanos juntos}}{\\text{Total casos posibles}} = \\frac{4320}{40320} \\approx 0.10714285714285714 = 10.71\\%\n",
    "        $$\n",
    "        \n",
    "    - **Inciso C:** Usando el mismo procedimiento y resultado del inciso '**C**', donde obtenemos el número de formas de ordenar los libros con la restricción de que los grupos de autores latinoamericanos, alemanes y españoles se encuentren juntos.\n",
    "        - Ordenar los bloques: $ 3! = 6 $\n",
    "        - Formas dentro del bloque latinoamericano: $3! = 6$       \n",
    "        - Formas dentro del bloque alemán: $3! = 6$     \n",
    "        - Formas dentro del bloque español: $2! = 2$             \n",
    "        - Formas totales: $ 6 * 6 * 6 * 2 = 432$\n",
    "\n",
    "        Obteniendo así que el número de **casos favorables** para C son **432**.\n",
    "    - Probabilidad:\n",
    "        $$\n",
    "        P(\\text{Grupos Juntos}) = \\frac{\\text{Número de maneras con latinoamericanos, alemanes y españoles juntos}}{\\text{{Formas totales}}} = \\frac{432}{40320}\\approx 0.010714285714285714 = 1.07\\%\n",
    "        $$"
   ]
  },
  {
   "cell_type": "markdown",
   "metadata": {},
   "source": [
    "- ----- -\n"
   ]
  },
  {
   "cell_type": "markdown",
   "metadata": {},
   "source": [
    "## Solución del ejercicio en Python"
   ]
  },
  {
   "cell_type": "code",
   "execution_count": 13,
   "metadata": {},
   "outputs": [
    {
     "name": "stdout",
     "output_type": "stream",
     "text": [
      "A) Número de formas en las que puedes acomodar los libros sobre la repisa: 40320\n",
      "B) Maneras en las que puedes ordenar los libros si se quiere que libros de autores latinoamericanos estén juntos: 4320\n",
      "C) Formar en las que puedas acomodarlos si los autores latinos están juntos, así como los alemanes y los españoles: 432\n",
      "D) Probabilidades de incisos B y C: \n",
      "Probabilidad correspondiente al inciso B: 0.10714285714285714 = 10.71 %\n",
      "Probabilidad correspondiente al inciso C: 0.010714285714285714 = 1.07 %\n"
     ]
    }
   ],
   "source": [
    "# Importación de la biblioteca math como 'm'\n",
    "import math as m\n",
    "\n",
    "# Función para los cálculos\n",
    "def calcular_cultura():\n",
    "    # Calcular valores (inciso A, B, C) \n",
    "    # Número total de libros\n",
    "    total_libros = 8\n",
    "    \n",
    "    # Calcular el número total de formas de arreglar los libros (Inciso A)\n",
    "    # Utilizando la función factorial de la biblioteca math\n",
    "    formas_total = m.factorial(total_libros)\n",
    "    \n",
    "    # Calcular el número de formas de arreglar los libros con autores latinoamericanos juntos (Inciso B)\n",
    "    # Hay 3 autores latinoamericanos y 5 autores no latinoamericanos\n",
    "    # Calcular el número de formas de arreglar los 5 autores no latinoamericanos y los 3 autores latinoamericanos\n",
    "    formas_b = m.factorial(6) * m.factorial(3)\n",
    "    \n",
    "    # Calcular el número de formas de arreglar los libros con autores latinoamericanos, alemanes y españoles juntos (Inciso C)\n",
    "    # Hay 3 autores latinoamericanos, 2 autores alemanes y 3 autores españoles\n",
    "    # Calcular el número de formas de arreglar cada grupo de autores y multiplicarlos entre sí\n",
    "    formas_c = m.factorial(3) * (m.factorial(2) * m.factorial(3) * m.factorial(3))\n",
    "    \n",
    "    # Calcular las probabilidades (Inciso D)\n",
    "    # Probabilidad de arreglar los libros con autores latinoamericanos juntos\n",
    "    probabilidad_b = formas_b / formas_total\n",
    "    \n",
    "    # Probabilidad de arreglar los libros con autores latinoamericanos, alemanes y españoles juntos\n",
    "    probabilidad_c = formas_c / formas_total\n",
    "    \n",
    "    # Devolver los valores calculados\n",
    "    return formas_total, formas_b, formas_c, probabilidad_b, probabilidad_c\n",
    "\n",
    "# Variables de guardado\n",
    "a, b, c, d1, d2 = calcular_cultura()\n",
    "# Porcentajes\n",
    "# Porcentajes\n",
    "porcentajeB = d1 * 100\n",
    "porcentajeC = d2 * 100\n",
    "# Imprimir resultados\n",
    "print(\"A) Número de formas en las que puedes acomodar los libros sobre la repisa:\", a)\n",
    "print(\"B) Maneras en las que puedes ordenar los libros si se quiere que libros de autores latinoamericanos estén juntos:\", b)\n",
    "print(\"C) Formar en las que puedas acomodarlos si los autores latinos están juntos, así como los alemanes y los españoles:\", c)\n",
    "print(\"D) Probabilidades de incisos B y C: \") \n",
    "print(\"Probabilidad correspondiente al inciso B:\", d1, \"=\", round(porcentajeB, 2),\"%\")\n",
    "print(\"Probabilidad correspondiente al inciso C:\", d2, \"=\", round(porcentajeC, 2),\"%\")\n",
    "\n"
   ]
  }
 ],
 "metadata": {
  "kernelspec": {
   "display_name": "Python 3",
   "language": "python",
   "name": "python3"
  },
  "language_info": {
   "codemirror_mode": {
    "name": "ipython",
    "version": 3
   },
   "file_extension": ".py",
   "mimetype": "text/x-python",
   "name": "python",
   "nbconvert_exporter": "python",
   "pygments_lexer": "ipython3",
   "version": "3.12.4"
  }
 },
 "nbformat": 4,
 "nbformat_minor": 2
}
