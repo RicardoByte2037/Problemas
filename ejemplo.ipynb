{
 "cells": [
  {
   "cell_type": "markdown",
   "metadata": {},
   "source": [
    "Dado que tenemos 6 numeros y se deben formar números de 3 digitos \n",
    "aplicamos la formula de permutaciones:\n",
    "\n",
    "$$\n",
    "\\begin{align}\n",
    "    _nP_r &= \\dfrac{n!}{(n - r)!}\\\\ \n",
    "    _6P_3 &= \\dfrac{6!}{(6 - 3)!}\\\\\n",
    "    _6P_3 &= \\dfrac{6!}{3!} = \\dfrac{720}{6}\\\\\n",
    "    _6P_3 &= 120\n",
    "\\end{align}\n",
    "$$\n",
    "\n",
    "Por lo tanto se pueden formar *120* números de tres dígitos."
   ]
  },
  {
   "cell_type": "markdown",
   "metadata": {},
   "source": [
    "- ----"
   ]
  },
  {
   "cell_type": "markdown",
   "metadata": {},
   "source": [
    "Los numeros proporcionados son: 0, 3, 4, 6, 7 y 9 por lo tanto todos\n",
    "aquellos numeros que comiencen con 0 o 3 son menores que 400. De esta forma \n",
    "los patrones de stos numeros son los siguientes:\n",
    "- *Patron 1*: 0 _ _, para este caso tenemos 2 espacios, para el primero tenemos 5 \n",
    "opciones i.e. 3, 4, 6, 7 y 9 y para el segundo 4. \n",
    "Por que utilizando permutaciones podemos proceder como\n",
    "\n",
    "$$\n",
    "\\begin{align}\n",
    "    5 \\cdot 4 = 20.\n",
    "\\end{align}\n",
    "$$\n",
    "\n",
    "- *Patron 2*: 3 _ _, en este caso resolvemos usando la misma logica anterior por\n",
    "lo que tenemos \n",
    "\n",
    "$$\n",
    "\\begin{align}\n",
    "    5 \\cdot 4 = 20.\n",
    "\\end{align}\n",
    "$$\n",
    "\n",
    "Ahora solo sumamos los patrones para un total de \n",
    "*40 numeros de 3 digitos menores a 400*."
   ]
  },
  {
   "cell_type": "markdown",
   "metadata": {},
   "source": [
    "- ----"
   ]
  },
  {
   "cell_type": "markdown",
   "metadata": {},
   "source": [
    "Los numeros proporcionados son: 0, 3, 4, 6, 7 y 9 por lo tanto todos\n",
    "aquellos numeros que terminen con 0, 4 y 6 son pares. Del inciso anterior\n",
    "nos podemos dar cuenta que para cada digito hay 20 permutaciones; es decir \n",
    "si se toma cualquiero de los 6 numeros el patron siempre es el mismo \n",
    "**X _ _**, donde X es cualquiera de estos 6 numeros. \n",
    "\n",
    "De esta observacion se puede concluir que el total de numeros pares es:\n",
    "$3 \\cdot 20 = 60$. *Hay 60 numeros pares de 3 digitos*."
   ]
  },
  {
   "cell_type": "markdown",
   "metadata": {},
   "source": [
    "----"
   ]
  },
  {
   "cell_type": "markdown",
   "metadata": {},
   "source": [
    "Los numeros proporcionados son: 0, 3, 4, 6, 7 y 9 por lo tanto todos\n",
    "aquellos numeros que terminen con 3, 7 y 9 son impares. Aplicando el mismo \n",
    "razonamiento del inciso anterior tenemos $3 \\cdot 20 = 60$. \n",
    "*Hay 60 numeros impares de 3 digitos*."
   ]
  }
 ],
 "metadata": {
  "kernelspec": {
   "display_name": "Python 3",
   "language": "python",
   "name": "python3"
  },
  "language_info": {
   "name": "python",
   "version": "3.12.4"
  }
 },
 "nbformat": 4,
 "nbformat_minor": 2
}
