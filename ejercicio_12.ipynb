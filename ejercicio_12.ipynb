{
 "cells": [
  {
   "cell_type": "markdown",
   "metadata": {},
   "source": [
    "# Ejercicio 12: Servicios restauranteros. \n",
    "Una cadena de hamburguesas anuncia que se ofrecen 512 maneras de pedir una hamburguesa. Un cliente puede elegir cualquiera de estos ingredientes: cátsup, mostaza, mayonesa, aderezo de la casa, cebolla, pepinillos, jitomate, tocino y lechuga.              \n",
    "### ¿Crees que lo que afirma la empresa sea cierto? Justifica tu respuesta."
   ]
  },
  {
   "cell_type": "markdown",
   "metadata": {},
   "source": [
    "----"
   ]
  },
  {
   "cell_type": "markdown",
   "metadata": {},
   "source": [
    "El objetivo es determinar el número de combinaciones posibles para una hamburguesa con 9 ingredientes, considerando que cada ingrediente puede estar presente o ausente. Para resolverlo, aplicamos la fórmula del **principio de conteo combinatorio**:\n",
    "$$\n",
    "Combinaciones= nCr = \\frac{n!}{(n - r)!r!}\n",
    "$$         \n",
    "\n",
    "La cantidad de combinaciones posibles se simplifica considerablemente debido a que cada ingrediente puede estar presente o ausente, lo que equivale a una **elección binaria** (sí o no). Esto permite utilizar una fórmula más simple:\n",
    "$$\n",
    "Combinaciones = 2^n\n",
    "$$          \n",
    "El numero proporcionado es **9** que representa a la cantidad de ingredientes, de forma que al aplicar esta fórmula obtenemos:\n",
    "$$\n",
    "2^9=512\n",
    "$$      \n",
    "Por lo tanto, esto significa que **la empresa tiene razón, hay 512 combinaciones posibles** de hamburguesas con los 9 ingredientes ofrecidos."
   ]
  },
  {
   "cell_type": "markdown",
   "metadata": {},
   "source": [
    "----"
   ]
  },
  {
   "cell_type": "markdown",
   "metadata": {},
   "source": [
    "## Solución del ejercicio en Python"
   ]
  },
  {
   "cell_type": "code",
   "execution_count": 4,
   "metadata": {},
   "outputs": [
    {
     "name": "stdout",
     "output_type": "stream",
     "text": [
      "Numero total de combinaciones: 512.0\n"
     ]
    }
   ],
   "source": [
    "# Importamos la librería math\n",
    "import math\n",
    "# Número de ingredientes\n",
    "ingredientes = 9\n",
    "# Número de combinaciones usando la función de potencia \"pow()\"\n",
    "combinaciones = math.pow(2, ingredientes)\n",
    "# Imprimimos combinaciones\n",
    "print(\"Numero total de combinaciones:\", combinaciones)"
   ]
  }
 ],
 "metadata": {
  "kernelspec": {
   "display_name": "Python 3",
   "language": "python",
   "name": "python3"
  },
  "language_info": {
   "codemirror_mode": {
    "name": "ipython",
    "version": 3
   },
   "file_extension": ".py",
   "mimetype": "text/x-python",
   "name": "python",
   "nbconvert_exporter": "python",
   "pygments_lexer": "ipython3",
   "version": "3.12.4"
  }
 },
 "nbformat": 4,
 "nbformat_minor": 2
}
